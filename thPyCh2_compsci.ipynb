{
 "cells": [
  {
   "cell_type": "markdown",
   "metadata": {},
   "source": [
    "### Chapter 2 - Variables, Expressions, and Statements"
   ]
  },
  {
   "cell_type": "code",
   "execution_count": 1,
   "metadata": {
    "scrolled": true
   },
   "outputs": [
    {
     "name": "stdout",
     "output_type": "stream",
     "text": [
      "5\n"
     ]
    }
   ],
   "source": [
    "#Assignment Statements\n",
    "#eg. \"x gets 5\"\n",
    "x = 5 # this is assignment.  It stores a value in a variable.\n",
    "print(x)"
   ]
  },
  {
   "cell_type": "markdown",
   "metadata": {},
   "source": [
    "This instructs the computer to store or record a data value in a place in computer memory.\n",
    "What is memory?   _______\n",
    "- RAM - random access memory \n",
    " - stores on/off (or charged/not charged) - 2 states - binary until changed, or computer power is off (volatile) (fast)  \n",
    "-Hard Drive/Disk - also stores 0/1 - (persistent) (slow)\n",
    "to do: discuss binary/decimal numbers\n",
    "___\n",
    "One way we can visualize what is stored where is by drawing a state diagram, with each variable pointing with an arrow to its value.  \n",
    "x --> 5\n",
    "____"
   ]
  },
  {
   "cell_type": "code",
   "execution_count": 6,
   "metadata": {},
   "outputs": [
    {
     "name": "stdout",
     "output_type": "stream",
     "text": [
      "50\n"
     ]
    }
   ],
   "source": [
    "#print(x)\n",
    "\n",
    "x = 2\n",
    "x = 7\n",
    "z = 50\n",
    "x = z\n",
    "print(x)"
   ]
  },
  {
   "cell_type": "markdown",
   "metadata": {},
   "source": [
    "Variable Names  \n",
    "Variable names should be descriptive and meaningful, without being too long/cumbersome (although they can be as long as you like).  They should document what the variable is used for. They can contain letters and numbers, but can't begin with a number.  You can use upper and lowercase letters, though one convention is to only use lowercase.  \n",
    "The underscore can appear in variable names and is used in place of a space.  \n",
    "E.g. my_variable = 3"
   ]
  },
  {
   "cell_type": "code",
   "execution_count": 3,
   "metadata": {},
   "outputs": [],
   "source": [
    "my_variable = 3  #this use of _ is called \"snake case\"\n",
    "#which is contrasted with \"camel case\"\n",
    "myVariable = 3  #Python typically uses snake case\n",
    "\n",
    "time_until_the_end_of_class = 28\n",
    "TimeUntilTheEndOfClass = time_until_the_end_of_class\n",
    "time_until_the_end_of_class = time_until_the_end_of_class - 2"
   ]
  },
  {
   "cell_type": "code",
   "execution_count": 4,
   "metadata": {},
   "outputs": [
    {
     "name": "stdout",
     "output_type": "stream",
     "text": [
      "4.5175395145262565 seconds\n"
     ]
    }
   ],
   "source": [
    "#5q = 4 #this will cause an error\n",
    "#experiment with other variable names that might give errors!\n",
    "#√x = 3\n",
    "#!myvar = 3\n",
    "#@var = 3\n",
    "#&var = 1\n",
    "CONSTANT_VAL_FOR_EARTH_GRAVITY = -9.8 # more on constants later\n",
    "start_height = 100\n",
    "# y = y0 + v0 * t + 1/2 a * t^2\n",
    "time_to_fall = (-start_height*2/CONSTANT_VAL_FOR_EARTH_GRAVITY)**(1/2)\n",
    "print(time_to_fall,\"seconds\")"
   ]
  },
  {
   "cell_type": "markdown",
   "metadata": {},
   "source": [
    "Reserved Keywords\n",
    "Python has some keywords that are illegal to use as variable names, because they are reserved for other purposes.  \n",
    "- False      class      finally    is         return\n",
    "- None       continue   for        lambda     try\n",
    "- True       def        from       nonlocal   while\n",
    "- and        del        global     not        with\n",
    "- as         elif       if         or         yield\n",
    "- assert     else       import     pass\n",
    "- break      except     in         raise"
   ]
  },
  {
   "cell_type": "code",
   "execution_count": 5,
   "metadata": {},
   "outputs": [
    {
     "name": "stdout",
     "output_type": "stream",
     "text": [
      "3\n"
     ]
    }
   ],
   "source": [
    "#str = 2\n",
    "#print(str)\n",
    "print(str(3))\n",
    "#int = \"hello\"\n",
    "#int(\"3\")"
   ]
  },
  {
   "cell_type": "markdown",
   "metadata": {},
   "source": [
    "____\n",
    "Expressions"
   ]
  },
  {
   "cell_type": "code",
   "execution_count": 6,
   "metadata": {},
   "outputs": [
    {
     "data": {
      "text/plain": [
       "42"
      ]
     },
     "execution_count": 6,
     "metadata": {},
     "output_type": "execute_result"
    }
   ],
   "source": [
    "#An expression is a combination of values, variables and operators, much like in math.\n",
    "42"
   ]
  },
  {
   "cell_type": "code",
   "execution_count": 7,
   "metadata": {},
   "outputs": [
    {
     "data": {
      "text/plain": [
       "42"
      ]
     },
     "execution_count": 7,
     "metadata": {},
     "output_type": "execute_result"
    }
   ],
   "source": [
    "6*7"
   ]
  },
  {
   "cell_type": "code",
   "execution_count": 8,
   "metadata": {},
   "outputs": [
    {
     "data": {
      "text/plain": [
       "42"
      ]
     },
     "execution_count": 8,
     "metadata": {},
     "output_type": "execute_result"
    }
   ],
   "source": [
    "x+37"
   ]
  },
  {
   "cell_type": "code",
   "execution_count": 9,
   "metadata": {},
   "outputs": [
    {
     "name": "stdout",
     "output_type": "stream",
     "text": [
      "12\n"
     ]
    }
   ],
   "source": [
    "#a statement is a unit of code that has an effect, like creating a variable or displaying something\n",
    "y = 12\n",
    "print(y)"
   ]
  },
  {
   "cell_type": "code",
   "execution_count": 10,
   "metadata": {},
   "outputs": [],
   "source": [
    "#experiment with some expressions and statements\n"
   ]
  },
  {
   "cell_type": "markdown",
   "metadata": {},
   "source": [
    "____\n",
    "Script/interactive mode"
   ]
  },
  {
   "cell_type": "markdown",
   "metadata": {},
   "source": [
    "-Python can work in interactive mode or script mode.  \n",
    "-Jupyter behaves a bit like a hybrid of the two."
   ]
  },
  {
   "cell_type": "code",
   "execution_count": 1,
   "metadata": {},
   "outputs": [
    {
     "name": "stdout",
     "output_type": "stream",
     "text": [
      "This is my testing script\n",
      "4 + 1 equals 5\n"
     ]
    }
   ],
   "source": [
    "import testing_script\n",
    "my_local_var = testing_script.my_test_variable"
   ]
  },
  {
   "cell_type": "code",
   "execution_count": 12,
   "metadata": {},
   "outputs": [
    {
     "name": "stdout",
     "output_type": "stream",
     "text": [
      "this is an awesome script\n",
      "It does several things\n",
      "6\n"
     ]
    }
   ],
   "source": [
    "import practice_script3"
   ]
  },
  {
   "cell_type": "code",
   "execution_count": 3,
   "metadata": {},
   "outputs": [
    {
     "data": {
      "text/plain": [
       "23"
      ]
     },
     "execution_count": 3,
     "metadata": {},
     "output_type": "execute_result"
    }
   ],
   "source": [
    "from testing_script import my_test_variable\n",
    "my_test_variable"
   ]
  },
  {
   "cell_type": "code",
   "execution_count": 4,
   "metadata": {},
   "outputs": [],
   "source": [
    "from testing_script import *"
   ]
  },
  {
   "cell_type": "markdown",
   "metadata": {},
   "source": [
    "String operations\n"
   ]
  },
  {
   "cell_type": "code",
   "execution_count": 13,
   "metadata": {},
   "outputs": [
    {
     "data": {
      "text/plain": [
       "'hello world'"
      ]
     },
     "execution_count": 13,
     "metadata": {},
     "output_type": "execute_result"
    }
   ],
   "source": [
    "#you can \"add\" or concatenate strings, or \"multiply\" or repeat strings\n",
    "\"hello\"+ \" \" + \"world\"\n"
   ]
  },
  {
   "cell_type": "code",
   "execution_count": 14,
   "metadata": {},
   "outputs": [
    {
     "data": {
      "text/plain": [
       "'hello hello hello hello hello '"
      ]
     },
     "execution_count": 14,
     "metadata": {},
     "output_type": "execute_result"
    }
   ],
   "source": [
    "\"hello \" * 5"
   ]
  },
  {
   "cell_type": "markdown",
   "metadata": {},
   "source": [
    "Comments"
   ]
  },
  {
   "cell_type": "code",
   "execution_count": 15,
   "metadata": {},
   "outputs": [
    {
     "data": {
      "text/plain": [
       "'\\nYou can, however, make block comments in some environments by using three apostrophes! \\nThis occasionally can cause some errors, though, so be alert!\\n'"
      ]
     },
     "execution_count": 15,
     "metadata": {},
     "output_type": "execute_result"
    }
   ],
   "source": [
    "#code in python can be \"commented\" by beginning the comment with a #\n",
    "#however, the comment status only lasts until the end of the line\n",
    "'''\n",
    "You can, however, make block comments in some environments by using three apostrophes! \n",
    "This occasionally can cause some errors, though, so be alert!\n",
    "'''\n",
    "#for example, jupyter doesn't really properly handle block comments"
   ]
  },
  {
   "cell_type": "markdown",
   "metadata": {},
   "source": [
    "### Exercises"
   ]
  },
  {
   "cell_type": "markdown",
   "metadata": {},
   "source": [
    "Exercise 1  \n",
    "Repeating my advice from the previous chapter, whenever you learn a new feature, you should try it out in interactive mode and make errors on purpose to see what goes wrong.\n",
    "We’ve seen that n = 42 is legal. What about 42 = n?\n",
    "How about x = y = 1?\n",
    "In some languages every statement ends with a semi-colon, ;. What happens if you put a semi-colon at the end of a Python statement?\n",
    "What if you put a period at the end of a statement?\n",
    "In math notation you can multiply x and y like this: x y. What happens if you try that in Python?\n"
   ]
  },
  {
   "cell_type": "code",
   "execution_count": 5,
   "metadata": {},
   "outputs": [
    {
     "ename": "SyntaxError",
     "evalue": "cannot assign to literal (4061779768.py, line 1)",
     "output_type": "error",
     "traceback": [
      "\u001b[0;36m  File \u001b[0;32m\"/var/folders/2j/rgdd494d7nj6ss812c9b9d6h0000gn/T/ipykernel_4184/4061779768.py\"\u001b[0;36m, line \u001b[0;32m1\u001b[0m\n\u001b[0;31m    42 = n\u001b[0m\n\u001b[0m    ^\u001b[0m\n\u001b[0;31mSyntaxError\u001b[0m\u001b[0;31m:\u001b[0m cannot assign to literal\n"
     ]
    }
   ],
   "source": [
    "# 42 = n\n",
    "# x = y = 1\n",
    "# x * y\n",
    "# print(\"Hello World\");\n",
    "# print(\"Hello WOrld\")."
   ]
  },
  {
   "cell_type": "markdown",
   "metadata": {},
   "source": [
    "Exercise 2  \n",
    "Practice using the Python interpreter as a calculator:\n",
    "The volume of a sphere with radius r is 4/3 π r3. What is the volume of a sphere with radius 5?\n",
    "Suppose the cover price of a book is  24.95 but bookstores get a 40 percent discount. Shipping costs $3 for the first copy and 75 cents for each additional copy. What is the total wholesale cost for 60 copies?\n",
    "If I leave my house at 6:52 am and run 1 mile at an easy pace (8:15 per mile), then 3 miles at tempo (7:12 per mile) and 1 mile at easy pace again, what time do I get home for breakfast?"
   ]
  },
  {
   "cell_type": "code",
   "execution_count": 6,
   "metadata": {},
   "outputs": [
    {
     "name": "stdout",
     "output_type": "stream",
     "text": [
      "523.5987755982989\n"
     ]
    }
   ],
   "source": [
    "import math\n",
    "volume_of_sphere = (4/3) * (math.pi) * (5**3)\n",
    "print(volume_of_sphere)"
   ]
  },
  {
   "cell_type": "code",
   "execution_count": 14,
   "metadata": {},
   "outputs": [
    {
     "name": "stdout",
     "output_type": "stream",
     "text": [
      "945.4499999999999\n"
     ]
    }
   ],
   "source": [
    "discount = 24.95 * .40\n",
    "book_price = 24.95 - discount\n",
    "first_copy = book_price + 3\n",
    "fifty_nine_other_copies = (book_price + 0.75) * 59\n",
    "price_of_60_books = first_copy + fifty_nine_other_copies\n",
    "print(price_of_60_books)"
   ]
  },
  {
   "cell_type": "code",
   "execution_count": 32,
   "metadata": {},
   "outputs": [
    {
     "name": "stdout",
     "output_type": "stream",
     "text": [
      "It takes 38.1 minutes to get home.\n",
      "6:52 AM plus 38.06 minutes is about 7:30 AM\n",
      "You will get home at 7:30\n"
     ]
    }
   ],
   "source": [
    "time_to_get_home = (8.25 * 2) + (3 * 7.2) \n",
    "time_you_get_home = 360.87 + time_to_get_home\n",
    "print(\"It takes \" + str(time_to_get_home) + \" minutes to get home.\")\n",
    "print(\"6:52 AM plus 38.06 minutes is about 7:30 AM.\")\n",
    "converted_time_to_get_home = \"7:30\"\n",
    "print(\"You will get home at \" + str((converted_time_to_get_home)))"
   ]
  },
  {
   "cell_type": "markdown",
   "metadata": {},
   "source": [
    "# User input!"
   ]
  },
  {
   "cell_type": "code",
   "execution_count": 8,
   "metadata": {},
   "outputs": [
    {
     "name": "stdout",
     "output_type": "stream",
     "text": [
      "here's some text\n"
     ]
    }
   ],
   "source": [
    "x = input()"
   ]
  },
  {
   "cell_type": "code",
   "execution_count": 9,
   "metadata": {},
   "outputs": [
    {
     "data": {
      "text/plain": [
       "\"Here's some text\""
      ]
     },
     "execution_count": 9,
     "metadata": {},
     "output_type": "execute_result"
    }
   ],
   "source": [
    "x_updated = \"H\" + x[1:]\n",
    "x_updated"
   ]
  },
  {
   "cell_type": "code",
   "execution_count": 16,
   "metadata": {},
   "outputs": [
    {
     "name": "stdout",
     "output_type": "stream",
     "text": [
      "Say hello to this great computer! hello\n"
     ]
    }
   ],
   "source": [
    "my_keyboard_input = input(\"Say hello to this great computer! \")"
   ]
  },
  {
   "cell_type": "code",
   "execution_count": 17,
   "metadata": {},
   "outputs": [
    {
     "name": "stdout",
     "output_type": "stream",
     "text": [
      "hello\n"
     ]
    }
   ],
   "source": [
    "print(my_keyboard_input)"
   ]
  },
  {
   "cell_type": "code",
   "execution_count": 10,
   "metadata": {},
   "outputs": [
    {
     "name": "stdout",
     "output_type": "stream",
     "text": [
      "type a number! 23\n"
     ]
    }
   ],
   "source": [
    "my_in = input(\"type a number! \")"
   ]
  },
  {
   "cell_type": "code",
   "execution_count": 11,
   "metadata": {},
   "outputs": [
    {
     "data": {
      "text/plain": [
       "'233'"
      ]
     },
     "execution_count": 11,
     "metadata": {},
     "output_type": "execute_result"
    }
   ],
   "source": [
    "my_in + \"3\""
   ]
  },
  {
   "cell_type": "code",
   "execution_count": 20,
   "metadata": {},
   "outputs": [
    {
     "data": {
      "text/plain": [
       "8"
      ]
     },
     "execution_count": 20,
     "metadata": {},
     "output_type": "execute_result"
    }
   ],
   "source": [
    "3 + int(my_in)"
   ]
  },
  {
   "cell_type": "code",
   "execution_count": 21,
   "metadata": {},
   "outputs": [
    {
     "name": "stdout",
     "output_type": "stream",
     "text": [
      "type a thing a thing\n",
      "a thing\n"
     ]
    }
   ],
   "source": [
    "var1 = input(\"type a thing \")\n",
    "print(var1)"
   ]
  },
  {
   "cell_type": "code",
   "execution_count": 22,
   "metadata": {},
   "outputs": [],
   "source": [
    "#3 + int(my_keyboard_input)"
   ]
  },
  {
   "cell_type": "markdown",
   "metadata": {},
   "source": [
    "# Conditional Logic "
   ]
  },
  {
   "cell_type": "code",
   "execution_count": 33,
   "metadata": {},
   "outputs": [
    {
     "name": "stdout",
     "output_type": "stream",
     "text": [
      "Enter a one or two digit number 42\n"
     ]
    }
   ],
   "source": [
    "x = input(\"Enter a one or two digit number \")\n",
    "x_int = int(x)"
   ]
  },
  {
   "cell_type": "code",
   "execution_count": 3,
   "metadata": {},
   "outputs": [],
   "source": [
    "x_int = int(-3)"
   ]
  },
  {
   "cell_type": "code",
   "execution_count": 25,
   "metadata": {},
   "outputs": [
    {
     "name": "stdout",
     "output_type": "stream",
     "text": [
      "Your number is non-positive!\n",
      "go team\n"
     ]
    }
   ],
   "source": [
    "if(x_int > 0):\n",
    "    print(\"Your number is positive\")\n",
    "    print(\"Hooray!\")\n",
    "else:\n",
    "    print(\"Your number is non-positive!\")\n",
    "    print(\"go team\")"
   ]
  },
  {
   "cell_type": "code",
   "execution_count": 26,
   "metadata": {},
   "outputs": [
    {
     "name": "stdout",
     "output_type": "stream",
     "text": [
      "x is negative!\n"
     ]
    }
   ],
   "source": [
    "#Sequential conditionals\n",
    "if(x_int == 0):\n",
    "    print(\"x is zero!\")\n",
    "elif(x_int > 0):\n",
    "    print(\"x is positive!\")\n",
    "else:\n",
    "    print(\"x is negative!\")"
   ]
  },
  {
   "cell_type": "code",
   "execution_count": 4,
   "metadata": {},
   "outputs": [
    {
     "name": "stdout",
     "output_type": "stream",
     "text": [
      "x is negative!\n"
     ]
    }
   ],
   "source": [
    "#Sequential conditionals\n",
    "if(x_int == 0):\n",
    "    print(\"x is zero!\")\n",
    "else:\n",
    "    if(x_int > 0):\n",
    "        print(\"x is positive!\")\n",
    "    else:\n",
    "        print(\"x is negative!\")"
   ]
  },
  {
   "cell_type": "code",
   "execution_count": 14,
   "metadata": {},
   "outputs": [
    {
     "name": "stdout",
     "output_type": "stream",
     "text": [
      "enter a number \n",
      "5\n",
      "x is positive\n",
      "x is not big\n"
     ]
    }
   ],
   "source": [
    "# Nested if/else\n",
    "# scenario - want to classify pos/negative AND BIG or not-Big\n",
    "big = 100\n",
    "x = (input('enter a number \\n'))\n",
    "\n",
    "if (int(x) > 0):\n",
    "    # x must be positive \n",
    "    print('x is positive')\n",
    "    if (int(x) >= big):\n",
    "        print('x is big')\n",
    "    else:\n",
    "        print('x is not big')\n",
    "else:\n",
    "    # x must be non-positive\n",
    "    print('x is non-positive')\n",
    "    if x <= big: \n",
    "        # xi is as large or larger in magnitude than big = 100\n",
    "        print('x is big! (i.e. in magnitude)')\n",
    "    else:\n",
    "        print('x is not big (in magnitude)')"
   ]
  },
  {
   "cell_type": "code",
   "execution_count": 27,
   "metadata": {},
   "outputs": [
    {
     "name": "stdout",
     "output_type": "stream",
     "text": [
      "2\n"
     ]
    }
   ],
   "source": [
    "#New function for strings - len() short for Length.  Finds the # of characters in a string.\n",
    "print(len(x))"
   ]
  },
  {
   "cell_type": "code",
   "execution_count": 20,
   "metadata": {},
   "outputs": [
    {
     "data": {
      "text/plain": [
       "5"
      ]
     },
     "execution_count": 20,
     "metadata": {},
     "output_type": "execute_result"
    }
   ],
   "source": [
    "# new function for string -  len() short for length, finds the length of the variable \n",
    "# print(len(str(x)))\n",
    "# print(len('Hello World!\\n'))\n",
    "# print(len('Hello World!\\\\n'))\n",
    "len('hello')"
   ]
  },
  {
   "cell_type": "code",
   "execution_count": 21,
   "metadata": {},
   "outputs": [
    {
     "name": "stdout",
     "output_type": "stream",
     "text": [
      "Enter a one or two digit number -2\n",
      "Your number is negative and has 1 digit.\n"
     ]
    }
   ],
   "source": [
    "#Nested conditionals\n",
    "#want to make a pos/neg/zero classifier along with a digit count\n",
    "#5 different outcomes! \n",
    "# 0, pos 1digit, pos 2 digit, neg 1 digit, neg 2 digit\n",
    "x = input(\"Enter a one or two digit number \")\n",
    "x_int = int(x)\n",
    "\n",
    "if(x_int == 0):\n",
    "    print(\"Your number is zero and has 1 digit.\")\n",
    "elif(x_int > 0):\n",
    "    #this number is positive\n",
    "    if(len(x) == 1):\n",
    "        print(\"Your number is positive and has 1 digit.\")\n",
    "    else:\n",
    "        print(\"Your number is positive and has more than 1 digit.\")\n",
    "else:\n",
    "    #this number is negative\n",
    "    if(len(x) == 2):\n",
    "        print(\"Your number is negative and has 1 digit.\")\n",
    "    else:\n",
    "        print(\"Your number is negative and has more than 1 digit.\")"
   ]
  },
  {
   "cell_type": "code",
   "execution_count": null,
   "metadata": {},
   "outputs": [],
   "source": []
  },
  {
   "cell_type": "markdown",
   "metadata": {},
   "source": [
    "# Two new operators "
   ]
  },
  {
   "cell_type": "code",
   "execution_count": 41,
   "metadata": {},
   "outputs": [
    {
     "name": "stdout",
     "output_type": "stream",
     "text": [
      "1\n",
      "0\n",
      "1\n",
      "-1\n"
     ]
    }
   ],
   "source": [
    "#you know +,-,*,/, **\n",
    "#New operators:\n",
    "#Floor Division   // - divide then round down\n",
    "print(3 // 3)\n",
    "print(1 // 2)\n",
    "print(4 // 3)\n",
    "print(- 1 // 3)"
   ]
  },
  {
   "cell_type": "code",
   "execution_count": 44,
   "metadata": {},
   "outputs": [
    {
     "name": "stdout",
     "output_type": "stream",
     "text": [
      "1\n",
      "1\n",
      "2\n"
     ]
    }
   ],
   "source": [
    "# Modulus operator: % - does division and returns only the remainder x Remainder y\n",
    "print(5 % 4) #1 remainder 1\n",
    "print(7 % 2) # 3 remainder 1\n",
    "print(11 % 3) # 3 remainder 2\n",
    "#This is very useful for checking whether or not a number is evenly divisible by another\n",
    "x = float(int(input(\"Enter an integer\")))\n",
    "if(x % 2 == 0):\n",
    "    print(\"x is even\")\n",
    "elif\n",
    "    "
   ]
  },
  {
   "cell_type": "code",
   "execution_count": null,
   "metadata": {},
   "outputs": [],
   "source": []
  },
  {
   "cell_type": "code",
   "execution_count": null,
   "metadata": {},
   "outputs": [],
   "source": []
  }
 ],
 "metadata": {
  "kernelspec": {
   "display_name": "Python 3 (ipykernel)",
   "language": "python",
   "name": "python3"
  },
  "language_info": {
   "codemirror_mode": {
    "name": "ipython",
    "version": 3
   },
   "file_extension": ".py",
   "mimetype": "text/x-python",
   "name": "python",
   "nbconvert_exporter": "python",
   "pygments_lexer": "ipython3",
   "version": "3.9.6"
  }
 },
 "nbformat": 4,
 "nbformat_minor": 4
}
